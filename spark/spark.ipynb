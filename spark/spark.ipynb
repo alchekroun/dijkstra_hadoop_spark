{
 "cells": [
  {
   "cell_type": "code",
   "execution_count": 1,
   "metadata": {},
   "outputs": [],
   "source": [
    "from pyspark import SparkContext\n",
    "import spark as ss\n",
    "import time\n",
    "\n",
    "sc = SparkContext()"
   ]
  },
  {
   "cell_type": "markdown",
   "metadata": {},
   "source": [
    "# Spark solution"
   ]
  },
  {
   "cell_type": "code",
   "execution_count": 2,
   "metadata": {},
   "outputs": [],
   "source": [
    "data = sc.textFile(\"../data/ex1_p.dat\")"
   ]
  },
  {
   "cell_type": "code",
   "execution_count": 3,
   "metadata": {},
   "outputs": [
    {
     "name": "stdout",
     "output_type": "stream",
     "text": [
      "Done in 0.37s\n"
     ]
    },
    {
     "data": {
      "text/plain": [
       "[(1, [0, [[2, 7], [3, 9], [4, 14]], [1]]),\n",
       " (2, (7, [[3, 10], [5, 15]], [1, 2])),\n",
       " (3, (9, [[5, 11], [4, 2]], [1, 3])),\n",
       " (4, (11, [[6, 9]], [1, 3, 4])),\n",
       " (5, (20, [[6, 6]], [1, 3, 5])),\n",
       " (6, (20, [], [1, 3, 4, 6]))]"
      ]
     },
     "execution_count": 3,
     "metadata": {},
     "output_type": "execute_result"
    }
   ],
   "source": [
    "start_time = time.time()\n",
    "nodes = data.map(lambda node: ss.prepare_data(node))\n",
    "\n",
    "for i in range(6):\n",
    "    neighbors = nodes.filter(\n",
    "                    lambda node: node[1][1]\n",
    "                ).map(\n",
    "                    lambda node: map(\n",
    "                        lambda neighbor: ss.process_neighbors(node[1][2], node[1][0], neighbor),\n",
    "                        node[1][1]\n",
    "                    )\n",
    "                ).flatMap(lambda x: x)\n",
    "    mapper = nodes.union(neighbors)\n",
    "    nodes = mapper.reduceByKey(lambda x, y: ss.min_distance(x, y))\n",
    "\n",
    "print(f'Done in {round(time.time() - start_time, 2)}s')\n",
    "nodes.collect()"
   ]
  },
  {
   "cell_type": "code",
   "execution_count": null,
   "metadata": {},
   "outputs": [],
   "source": []
  }
 ],
 "metadata": {
  "kernelspec": {
   "display_name": "Python 3",
   "language": "python",
   "name": "python3"
  },
  "language_info": {
   "codemirror_mode": {
    "name": "ipython",
    "version": 3
   },
   "file_extension": ".py",
   "mimetype": "text/x-python",
   "name": "python",
   "nbconvert_exporter": "python",
   "pygments_lexer": "ipython3",
   "version": "3.8.5"
  }
 },
 "nbformat": 4,
 "nbformat_minor": 4
}
