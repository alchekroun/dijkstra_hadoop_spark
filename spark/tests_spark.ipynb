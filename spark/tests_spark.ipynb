{
 "cells": [
  {
   "cell_type": "code",
   "execution_count": 1,
   "metadata": {},
   "outputs": [],
   "source": [
    "from pyspark import SparkContext\n",
    "import dijkstra_spark as ds\n",
    "import time\n",
    "\n",
    "sc = SparkContext()"
   ]
  },
  {
   "cell_type": "code",
   "execution_count": 2,
   "metadata": {},
   "outputs": [],
   "source": [
    "textFile = sc.textFile(\"../data/input.dat\")\n",
    "\n",
    "count = sc.accumulator(0)"
   ]
  },
  {
   "cell_type": "code",
   "execution_count": 3,
   "metadata": {},
   "outputs": [
    {
     "data": {
      "text/plain": [
       "[('1', (0, ['2,10', '3,5'], '1')),\n",
       " ('2', (999, ['3,2', '4,1'], '2')),\n",
       " ('3', (999, ['2,3', '4,9', '5,2'], '3')),\n",
       " ('4', (999, ['5,4'], '4')),\n",
       " ('5', (999, ['1,7', '4,6', '6,2'], '5')),\n",
       " ('6', (999, [], '6'))]"
      ]
     },
     "execution_count": 3,
     "metadata": {},
     "output_type": "execute_result"
    }
   ],
   "source": [
    "nodes = textFile.map(lambda node: ds.get_keyvalue_from_line(node))\n",
    "nodes.collect()"
   ]
  },
  {
   "cell_type": "code",
   "execution_count": 4,
   "metadata": {},
   "outputs": [
    {
     "data": {
      "text/plain": [
       "[(0, ['2,10', '3,5'], '1'),\n",
       " (999, ['3,2', '4,1'], '2'),\n",
       " (999, ['2,3', '4,9', '5,2'], '3'),\n",
       " (999, ['5,4'], '4'),\n",
       " (999, ['1,7', '4,6', '6,2'], '5'),\n",
       " (999, [], '6')]"
      ]
     },
     "execution_count": 4,
     "metadata": {},
     "output_type": "execute_result"
    }
   ],
   "source": [
    "nodesValues = nodes.map(lambda x: x[1])\n",
    "nodesValues.collect()"
   ]
  },
  {
   "cell_type": "code",
   "execution_count": 5,
   "metadata": {},
   "outputs": [
    {
     "data": {
      "text/plain": [
       "[('2', (10, None, '1->2')),\n",
       " ('3', (5, None, '1->3')),\n",
       " ('3', (1001, None, '2->3')),\n",
       " ('4', (1000, None, '2->4')),\n",
       " ('2', (1002, None, '3->2')),\n",
       " ('4', (1008, None, '3->4')),\n",
       " ('5', (1001, None, '3->5')),\n",
       " ('5', (1003, None, '4->5')),\n",
       " ('1', (1006, None, '5->1')),\n",
       " ('4', (1005, None, '5->4')),\n",
       " ('6', (1001, None, '5->6'))]"
      ]
     },
     "execution_count": 5,
     "metadata": {},
     "output_type": "execute_result"
    }
   ],
   "source": [
    "neighbors = nodesValues.filter(lambda nodeDataFilter: nodeDataFilter[1]).map(\n",
    "        lambda nodeData: map(\n",
    "            lambda neighbor: ds.customSplitNeighbor(\n",
    "                nodeData[2], nodeData[0], neighbor\n",
    "            ), nodeData[1]\n",
    "        )\n",
    "    ).flatMap(lambda x: x)\n",
    "\n",
    "neighbors.collect()"
   ]
  },
  {
   "cell_type": "code",
   "execution_count": 6,
   "metadata": {},
   "outputs": [
    {
     "data": {
      "text/plain": [
       "[('1', (0, ['2,10', '3,5'], '1')),\n",
       " ('2', (999, ['3,2', '4,1'], '2')),\n",
       " ('3', (999, ['2,3', '4,9', '5,2'], '3')),\n",
       " ('4', (999, ['5,4'], '4')),\n",
       " ('5', (999, ['1,7', '4,6', '6,2'], '5')),\n",
       " ('6', (999, [], '6')),\n",
       " ('2', (10, None, '1->2')),\n",
       " ('3', (5, None, '1->3')),\n",
       " ('3', (1001, None, '2->3')),\n",
       " ('4', (1000, None, '2->4')),\n",
       " ('2', (1002, None, '3->2')),\n",
       " ('4', (1008, None, '3->4')),\n",
       " ('5', (1001, None, '3->5')),\n",
       " ('5', (1003, None, '4->5')),\n",
       " ('1', (1006, None, '5->1')),\n",
       " ('4', (1005, None, '5->4')),\n",
       " ('6', (1001, None, '5->6'))]"
      ]
     },
     "execution_count": 6,
     "metadata": {},
     "output_type": "execute_result"
    }
   ],
   "source": [
    "mapper = nodes.union(neighbors)\n",
    "mapper.collect()"
   ]
  },
  {
   "cell_type": "code",
   "execution_count": 7,
   "metadata": {},
   "outputs": [
    {
     "data": {
      "text/plain": [
       "[('4', (999, ['5,4'], '4')),\n",
       " ('3', (5, ['2,3', '4,9', '5,2'], '1->3')),\n",
       " ('6', (999, [], '6')),\n",
       " ('1', (0, ['2,10', '3,5'], '1')),\n",
       " ('2', (10, ['3,2', '4,1'], '1->2')),\n",
       " ('5', (999, ['1,7', '4,6', '6,2'], '5'))]"
      ]
     },
     "execution_count": 7,
     "metadata": {},
     "output_type": "execute_result"
    }
   ],
   "source": [
    "reducer = mapper.reduceByKey(lambda x, y: ds.min_distance(x, y))\n",
    "reducer.collect()"
   ]
  },
  {
   "cell_type": "code",
   "execution_count": 8,
   "metadata": {},
   "outputs": [
    {
     "data": {
      "text/plain": [
       "[('4', (999, ['5,4'], '4')),\n",
       " ('3', (5, ['2,3', '4,9', '5,2'], '1->3')),\n",
       " ('6', (999, [], '6')),\n",
       " ('1', (0, ['2,10', '3,5'], '1')),\n",
       " ('2', (10, ['3,2', '4,1'], '1->2')),\n",
       " ('5', (999, ['1,7', '4,6', '6,2'], '5'))]"
      ]
     },
     "execution_count": 8,
     "metadata": {},
     "output_type": "execute_result"
    }
   ],
   "source": [
    "nodes2 = reducer.map(lambda node: ds.customSplitNodesIterative(node))\n",
    "nodes2.collect()"
   ]
  },
  {
   "cell_type": "code",
   "execution_count": 9,
   "metadata": {},
   "outputs": [
    {
     "name": "stdout",
     "output_type": "stream",
     "text": [
      "Finished after: 1 iterations in 0.06s\n"
     ]
    }
   ],
   "source": [
    "start_time = time.time()\n",
    "nodes = textFile.map(lambda node: ds.get_keyvalue_from_line(node))\n",
    "\n",
    "oldCount = 0\n",
    "iterations = 0\n",
    "while True:\n",
    "    iterations += 1\n",
    "    nodesValues = nodes.map(lambda x: x[1])\n",
    "    neighbors = nodesValues.filter(lambda nodeDataFilter: nodeDataFilter[1]).map(\n",
    "        lambda nodeData: map(\n",
    "            lambda neighbor: ds.customSplitNeighbor(\n",
    "                nodeData[2], nodeData[0], neighbor\n",
    "            ), nodeData[1]\n",
    "        )\n",
    "    ).flatMap(lambda x: x)\n",
    "    mapper = nodes.union(neighbors)\n",
    "    reducer = mapper.reduceByKey(lambda x, y: ds.min_distance(x, y))\n",
    "    nodes = reducer.map(lambda node: ds.customSplitNodesIterative(node))\n",
    "    if oldCount == count.value:\n",
    "        break\n",
    "    oldCount=count.value\n",
    "\n",
    "print(f'Finished after: {iterations} iterations in {round(time.time() - start_time, 2)}s')\n",
    "result = reducer.map(lambda node: ds.format_result(node))"
   ]
  },
  {
   "cell_type": "code",
   "execution_count": 10,
   "metadata": {},
   "outputs": [
    {
     "data": {
      "text/plain": [
       "[('4', 999, '4'),\n",
       " ('3', 5, '1->3'),\n",
       " ('6', 999, '6'),\n",
       " ('1', 0, '1'),\n",
       " ('2', 10, '1->2'),\n",
       " ('5', 999, '5')]"
      ]
     },
     "execution_count": 10,
     "metadata": {},
     "output_type": "execute_result"
    }
   ],
   "source": [
    "result.collect()"
   ]
  },
  {
   "cell_type": "code",
   "execution_count": null,
   "metadata": {},
   "outputs": [],
   "source": []
  }
 ],
 "metadata": {
  "kernelspec": {
   "display_name": "Python 3",
   "language": "python",
   "name": "python3"
  },
  "language_info": {
   "codemirror_mode": {
    "name": "ipython",
    "version": 3
   },
   "file_extension": ".py",
   "mimetype": "text/x-python",
   "name": "python",
   "nbconvert_exporter": "python",
   "pygments_lexer": "ipython3",
   "version": "3.8.5"
  }
 },
 "nbformat": 4,
 "nbformat_minor": 4
}
