{
 "cells": [
  {
   "cell_type": "code",
   "execution_count": 1,
   "metadata": {},
   "outputs": [],
   "source": [
    "import lib.dijkstra_hadoop as dh"
   ]
  },
  {
   "cell_type": "code",
   "execution_count": 2,
   "metadata": {},
   "outputs": [],
   "source": [
    "\"\"\"\n",
    "input_list = [\n",
    "    [1, 0, [[2,10],[3,5],[5, 3]]],\n",
    "    [2, 999, [[3,2],[4,1], [7, 2]]],\n",
    "    [3, 999, [[2,3],[4,9],[5,2]]],\n",
    "    [4, 999, [[5,4], [8, 1]]],\n",
    "    [5, 999, [[1,7],[4,6],[6,2]]],\n",
    "    [6, 999, [[7, 2], [8, 3]]],\n",
    "    [7, 999, [[2, 10], [10, 2]]],\n",
    "    [8, 999, [[4, 3], [5, 2]]],\n",
    "    [9, 999, [[3, 1]]],\n",
    "    [10, 999, [[9, 10]]]\n",
    "]\n",
    "\"\"\"\n",
    "input_list = [\n",
    "    [1, 2, 10],\n",
    "    [1, 3, 5],\n",
    "    [2, 3, 2],\n",
    "    [2, 4, 1],\n",
    "    [3, 2, 3],\n",
    "    [3, 4, 9],\n",
    "    [3, 5, 2],\n",
    "    [4, 5, 4],\n",
    "    [5, 1, 7],\n",
    "    [5, 4, 6],\n",
    "    [5, 6, 2],\n",
    "]\n",
    "\n",
    "ex_wiki = [\n",
    "    [1, 2, 7],\n",
    "    [1, 3, 9],\n",
    "    [1, 4, 14],\n",
    "    [2, 3, 10],\n",
    "    [2, 5, 15],\n",
    "    [3, 5, 11],\n",
    "    [3, 4, 2],\n",
    "    [4, 6, 9],\n",
    "    [5, 6, 6],\n",
    "]"
   ]
  },
  {
   "cell_type": "code",
   "execution_count": 3,
   "metadata": {},
   "outputs": [
    {
     "name": "stdout",
     "output_type": "stream",
     "text": [
      "CPU times: user 176 µs, sys: 0 ns, total: 176 µs\n",
      "Wall time: 180 µs\n"
     ]
    },
    {
     "data": {
      "text/plain": [
       "{1: [0, [[2, 10], [3, 5]], [1]],\n",
       " 2: [8, [[3, 2], [4, 1]], [1, 3, 2]],\n",
       " 3: [5, [[2, 3], [4, 9], [5, 2]], [1, 3]],\n",
       " 4: [9, [[5, 4]], [1, 3, 2, 4]],\n",
       " 5: [7, [[1, 7], [4, 6], [6, 2]], [1, 3, 5]],\n",
       " 6: [9, [], [1, 3, 5, 6]]}"
      ]
     },
     "execution_count": 3,
     "metadata": {},
     "output_type": "execute_result"
    }
   ],
   "source": [
    "%%time\n",
    "dh.dijkstra(input_list)"
   ]
  },
  {
   "cell_type": "code",
   "execution_count": 4,
   "metadata": {},
   "outputs": [
    {
     "data": {
      "text/plain": [
       "{1: [0, [[2, 7], [3, 9], [4, 14]], [1]],\n",
       " 2: [7, [[3, 10], [5, 15]], [1, 2]],\n",
       " 3: [9, [[5, 11], [4, 2]], [1, 3]],\n",
       " 4: [11, [[6, 9]], [1, 3, 4]],\n",
       " 5: [20, [[6, 6]], [1, 3, 5]],\n",
       " 6: [20, [], [1, 3, 4, 6]]}"
      ]
     },
     "execution_count": 4,
     "metadata": {},
     "output_type": "execute_result"
    }
   ],
   "source": [
    "dh.dijkstra(ex_wiki)"
   ]
  },
  {
   "cell_type": "code",
   "execution_count": 5,
   "metadata": {},
   "outputs": [
    {
     "data": {
      "text/plain": [
       "{1: [[0, [[2, 7], [3, 9], [4, 14]], [1]]],\n",
       " 2: [[7, None, [1, 2]], [inf, [[3, 10], [5, 15]], [2]]],\n",
       " 3: [[9, None, [1, 3]], [inf, None, [2, 3]], [inf, [[5, 11], [4, 2]], [3]]],\n",
       " 4: [[14, None, [1, 4]], [inf, None, [3, 4]], [inf, [[6, 9]], [4]]],\n",
       " 5: [[inf, None, [2, 5]], [inf, None, [3, 5]], [inf, [[6, 6]], [5]]],\n",
       " 6: [[inf, None, [4, 6]], [inf, None, [5, 6]], [inf, [], [6]]]}"
      ]
     },
     "execution_count": 5,
     "metadata": {},
     "output_type": "execute_result"
    }
   ],
   "source": [
    "dh.shuffle_and_sort(dh.mapper(dh.prepare_data(ex_wiki)))"
   ]
  },
  {
   "cell_type": "code",
   "execution_count": 6,
   "metadata": {},
   "outputs": [
    {
     "data": {
      "text/plain": [
       "{1: [0, [[2, 7], [3, 9], [4, 14]], []],\n",
       " 2: [inf, [[3, 10], [5, 15]], []],\n",
       " 3: [inf, [[5, 11], [4, 2]], []],\n",
       " 4: [inf, [[6, 9]], []],\n",
       " 5: [inf, [[6, 6]], []],\n",
       " 6: [inf, [], []]}"
      ]
     },
     "execution_count": 6,
     "metadata": {},
     "output_type": "execute_result"
    }
   ],
   "source": [
    "dh.prepare_data(ex_wiki)"
   ]
  },
  {
   "cell_type": "code",
   "execution_count": null,
   "metadata": {},
   "outputs": [],
   "source": []
  }
 ],
 "metadata": {
  "kernelspec": {
   "display_name": "Python 3",
   "language": "python",
   "name": "python3"
  },
  "language_info": {
   "codemirror_mode": {
    "name": "ipython",
    "version": 3
   },
   "file_extension": ".py",
   "mimetype": "text/x-python",
   "name": "python",
   "nbconvert_exporter": "python",
   "pygments_lexer": "ipython3",
   "version": "3.8.5"
  }
 },
 "nbformat": 4,
 "nbformat_minor": 4
}